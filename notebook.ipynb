{
 "cells": [
  {
   "cell_type": "markdown",
   "metadata": {},
   "source": [
    "<h2>Import Libary</h2>"
   ]
  },
  {
   "cell_type": "code",
   "execution_count": 28,
   "metadata": {},
   "outputs": [],
   "source": [
    "import pandas as pd\n",
    "import seaborn as sns\n",
    "import numpy as np"
   ]
  },
  {
   "cell_type": "markdown",
   "metadata": {},
   "source": [
    "<h2>Import Dataset Minimum Wage of Bali Province</h2>"
   ]
  },
  {
   "cell_type": "code",
   "execution_count": 29,
   "metadata": {},
   "outputs": [
    {
     "data": {
      "text/html": [
       "<div>\n",
       "<style scoped>\n",
       "    .dataframe tbody tr th:only-of-type {\n",
       "        vertical-align: middle;\n",
       "    }\n",
       "\n",
       "    .dataframe tbody tr th {\n",
       "        vertical-align: top;\n",
       "    }\n",
       "\n",
       "    .dataframe thead th {\n",
       "        text-align: right;\n",
       "    }\n",
       "</style>\n",
       "<table border=\"1\" class=\"dataframe\">\n",
       "  <thead>\n",
       "    <tr style=\"text-align: right;\">\n",
       "      <th></th>\n",
       "      <th>regency</th>\n",
       "      <th>2002</th>\n",
       "      <th>2003</th>\n",
       "      <th>2004</th>\n",
       "      <th>2005</th>\n",
       "      <th>2006</th>\n",
       "      <th>2007</th>\n",
       "      <th>2008</th>\n",
       "      <th>2009</th>\n",
       "      <th>2010</th>\n",
       "      <th>...</th>\n",
       "      <th>2012</th>\n",
       "      <th>2013</th>\n",
       "      <th>2014</th>\n",
       "      <th>2015</th>\n",
       "      <th>2016</th>\n",
       "      <th>2017</th>\n",
       "      <th>2018</th>\n",
       "      <th>2019</th>\n",
       "      <th>2020</th>\n",
       "      <th>2021</th>\n",
       "    </tr>\n",
       "  </thead>\n",
       "  <tbody>\n",
       "    <tr>\n",
       "      <th>0</th>\n",
       "      <td>Kab. Jembrana</td>\n",
       "      <td>309750.0</td>\n",
       "      <td>341000.0</td>\n",
       "      <td>432650.0</td>\n",
       "      <td>455300.0</td>\n",
       "      <td>532700</td>\n",
       "      <td>675000</td>\n",
       "      <td>737500</td>\n",
       "      <td>812500</td>\n",
       "      <td>875000</td>\n",
       "      <td>...</td>\n",
       "      <td>1000000</td>\n",
       "      <td>1212500</td>\n",
       "      <td>1542600</td>\n",
       "      <td>1662500</td>\n",
       "      <td>NaN</td>\n",
       "      <td>2006617</td>\n",
       "      <td>2181393</td>\n",
       "      <td>2356559</td>\n",
       "      <td>2557102</td>\n",
       "      <td>2557102</td>\n",
       "    </tr>\n",
       "    <tr>\n",
       "      <th>1</th>\n",
       "      <td>Kab. Tabanan</td>\n",
       "      <td>NaN</td>\n",
       "      <td>NaN</td>\n",
       "      <td>NaN</td>\n",
       "      <td>NaN</td>\n",
       "      <td>530000</td>\n",
       "      <td>622054</td>\n",
       "      <td>685000</td>\n",
       "      <td>777000</td>\n",
       "      <td>854500</td>\n",
       "      <td>...</td>\n",
       "      <td>1005000</td>\n",
       "      <td>1250000</td>\n",
       "      <td>1542600</td>\n",
       "      <td>1706700</td>\n",
       "      <td>1902970.0</td>\n",
       "      <td>2059965</td>\n",
       "      <td>2239500</td>\n",
       "      <td>2419332</td>\n",
       "      <td>2625217</td>\n",
       "      <td>2625217</td>\n",
       "    </tr>\n",
       "    <tr>\n",
       "      <th>2</th>\n",
       "      <td>Kab. Badung</td>\n",
       "      <td>345000.0</td>\n",
       "      <td>385000.0</td>\n",
       "      <td>469000.0</td>\n",
       "      <td>506500.0</td>\n",
       "      <td>582000</td>\n",
       "      <td>705000</td>\n",
       "      <td>805000</td>\n",
       "      <td>950000</td>\n",
       "      <td>1110000</td>\n",
       "      <td>...</td>\n",
       "      <td>1290000</td>\n",
       "      <td>1401000</td>\n",
       "      <td>1728000</td>\n",
       "      <td>1905000</td>\n",
       "      <td>2124075.0</td>\n",
       "      <td>2299311</td>\n",
       "      <td>2499581</td>\n",
       "      <td>2700297</td>\n",
       "      <td>2930093</td>\n",
       "      <td>2930093</td>\n",
       "    </tr>\n",
       "    <tr>\n",
       "      <th>3</th>\n",
       "      <td>Kab. Gianyar</td>\n",
       "      <td>320000.0</td>\n",
       "      <td>345000.0</td>\n",
       "      <td>446265.0</td>\n",
       "      <td>475000.0</td>\n",
       "      <td>540000</td>\n",
       "      <td>650000</td>\n",
       "      <td>760000</td>\n",
       "      <td>842500</td>\n",
       "      <td>925000</td>\n",
       "      <td>...</td>\n",
       "      <td>1104000</td>\n",
       "      <td>1230000</td>\n",
       "      <td>1543000</td>\n",
       "      <td>1707750</td>\n",
       "      <td>1904141.0</td>\n",
       "      <td>2061233</td>\n",
       "      <td>2240766</td>\n",
       "      <td>2421000</td>\n",
       "      <td>2627000</td>\n",
       "      <td>2627000</td>\n",
       "    </tr>\n",
       "    <tr>\n",
       "      <th>4</th>\n",
       "      <td>Kab. Klungkung</td>\n",
       "      <td>NaN</td>\n",
       "      <td>NaN</td>\n",
       "      <td>NaN</td>\n",
       "      <td>NaN</td>\n",
       "      <td>521000</td>\n",
       "      <td>625000</td>\n",
       "      <td>686000</td>\n",
       "      <td>767000</td>\n",
       "      <td>835800</td>\n",
       "      <td>...</td>\n",
       "      <td>995000</td>\n",
       "      <td>1190000</td>\n",
       "      <td>1545000</td>\n",
       "      <td>1650000</td>\n",
       "      <td>1839750.0</td>\n",
       "      <td>1991529</td>\n",
       "      <td>2164992</td>\n",
       "      <td>2338840</td>\n",
       "      <td>2538000</td>\n",
       "      <td>2538000</td>\n",
       "    </tr>\n",
       "  </tbody>\n",
       "</table>\n",
       "<p>5 rows × 21 columns</p>\n",
       "</div>"
      ],
      "text/plain": [
       "          regency      2002      2003      2004      2005    2006    2007  \\\n",
       "0   Kab. Jembrana  309750.0  341000.0  432650.0  455300.0  532700  675000   \n",
       "1    Kab. Tabanan       NaN       NaN       NaN       NaN  530000  622054   \n",
       "2     Kab. Badung  345000.0  385000.0  469000.0  506500.0  582000  705000   \n",
       "3    Kab. Gianyar  320000.0  345000.0  446265.0  475000.0  540000  650000   \n",
       "4  Kab. Klungkung       NaN       NaN       NaN       NaN  521000  625000   \n",
       "\n",
       "     2008    2009     2010  ...     2012     2013     2014     2015  \\\n",
       "0  737500  812500   875000  ...  1000000  1212500  1542600  1662500   \n",
       "1  685000  777000   854500  ...  1005000  1250000  1542600  1706700   \n",
       "2  805000  950000  1110000  ...  1290000  1401000  1728000  1905000   \n",
       "3  760000  842500   925000  ...  1104000  1230000  1543000  1707750   \n",
       "4  686000  767000   835800  ...   995000  1190000  1545000  1650000   \n",
       "\n",
       "        2016     2017     2018     2019     2020     2021  \n",
       "0        NaN  2006617  2181393  2356559  2557102  2557102  \n",
       "1  1902970.0  2059965  2239500  2419332  2625217  2625217  \n",
       "2  2124075.0  2299311  2499581  2700297  2930093  2930093  \n",
       "3  1904141.0  2061233  2240766  2421000  2627000  2627000  \n",
       "4  1839750.0  1991529  2164992  2338840  2538000  2538000  \n",
       "\n",
       "[5 rows x 21 columns]"
      ]
     },
     "execution_count": 29,
     "metadata": {},
     "output_type": "execute_result"
    }
   ],
   "source": [
    "df = pd.read_excel('datasets/minimum_wage.xlsx')\n",
    "df.head()"
   ]
  },
  {
   "cell_type": "markdown",
   "metadata": {},
   "source": [
    "<h2>Check Column Null Value</h2>"
   ]
  },
  {
   "cell_type": "code",
   "execution_count": 30,
   "metadata": {},
   "outputs": [
    {
     "data": {
      "text/plain": [
       "regency    0\n",
       "2002       5\n",
       "2003       5\n",
       "2004       5\n",
       "2005       4\n",
       "2006       0\n",
       "2007       0\n",
       "2008       0\n",
       "2009       0\n",
       "2010       0\n",
       "2011       0\n",
       "2012       0\n",
       "2013       0\n",
       "2014       0\n",
       "2015       0\n",
       "2016       1\n",
       "2017       0\n",
       "2018       0\n",
       "2019       0\n",
       "2020       0\n",
       "2021       0\n",
       "dtype: int64"
      ]
     },
     "execution_count": 30,
     "metadata": {},
     "output_type": "execute_result"
    }
   ],
   "source": [
    "df.isnull().sum()"
   ]
  },
  {
   "cell_type": "markdown",
   "metadata": {},
   "source": [
    "<h2>Cleaning Data</h2>\n",
    "<p>there are 5 columns that have empty values, we will fill them with the average of each column whose values are empty</p>"
   ]
  },
  {
   "cell_type": "code",
   "execution_count": 31,
   "metadata": {},
   "outputs": [
    {
     "data": {
      "text/plain": [
       "regency    0\n",
       "2002       0\n",
       "2003       0\n",
       "2004       0\n",
       "2005       0\n",
       "2006       0\n",
       "2007       0\n",
       "2008       0\n",
       "2009       0\n",
       "2010       0\n",
       "2011       0\n",
       "2012       0\n",
       "2013       0\n",
       "2014       0\n",
       "2015       0\n",
       "2016       0\n",
       "2017       0\n",
       "2018       0\n",
       "2019       0\n",
       "2020       0\n",
       "2021       0\n",
       "dtype: int64"
      ]
     },
     "execution_count": 31,
     "metadata": {},
     "output_type": "execute_result"
    }
   ],
   "source": [
    "df['2002'].fillna(value=df['2002'].mean(), inplace=True)\n",
    "df['2003'].fillna(value=df['2003'].mean(), inplace=True)\n",
    "df['2004'].fillna(value=df['2004'].mean(), inplace=True)\n",
    "df['2005'].fillna(value=df['2005'].mean(), inplace=True)\n",
    "df['2016'].fillna(value=df['2016'].mean(), inplace=True)\n",
    "df.isna().sum()"
   ]
  },
  {
   "cell_type": "markdown",
   "metadata": {},
   "source": [
    "<h2>Visualize Data</h2>"
   ]
  },
  {
   "cell_type": "code",
   "execution_count": 32,
   "metadata": {},
   "outputs": [
    {
     "data": {
      "text/plain": [
       "<AxesSubplot:>"
      ]
     },
     "execution_count": 32,
     "metadata": {},
     "output_type": "execute_result"
    },
    {
     "data": {
      "image/png": "[encoded data removed]",
      "text/plain": [
       "<Figure size 432x288 with 1 Axes>"
      ]
     },
     "metadata": {
      "needs_background": "light"
     },
     "output_type": "display_data"
    }
   ],
   "source": [
    "sns.boxplot()"
   ]
  }
 ],
 "metadata": {
  "interpreter": {
   "hash": "15487505a673b4a1667b8ba4afe210096e636f0a3714b462dd81407a2558429d"
  },
  "kernelspec": {
   "display_name": "Python 3.8.8 64-bit ('base': conda)",
   "language": "python",
   "name": "python3"
  },
  "language_info": {
   "codemirror_mode": {
    "name": "ipython",
    "version": 3
   },
   "file_extension": ".py",
   "mimetype": "text/x-python",
   "name": "python",
   "nbconvert_exporter": "python",
   "pygments_lexer": "ipython3",
   "version": "3.8.8"
  },
  "orig_nbformat": 4
 },
 "nbformat": 4,
 "nbformat_minor": 2
}
